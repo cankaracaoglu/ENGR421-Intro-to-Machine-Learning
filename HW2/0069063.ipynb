{
 "cells": [
  {
   "cell_type": "code",
   "execution_count": 1,
   "id": "d841ad49",
   "metadata": {},
   "outputs": [],
   "source": [
    "import math\n",
    "import matplotlib.pyplot as plt\n",
    "import numpy as np\n",
    "import scipy.stats as stats\n",
    "import pandas as pd\n",
    "\n",
    "def safelog(x):\n",
    "    return(np.log(x + 1e-100))"
   ]
  },
  {
   "cell_type": "markdown",
   "id": "f1e7b92f",
   "metadata": {},
   "source": [
    "## Importing Data"
   ]
  },
  {
   "cell_type": "code",
   "execution_count": 2,
   "id": "c9d525d9",
   "metadata": {},
   "outputs": [],
   "source": [
    "#read data \n",
    "x = np.genfromtxt(\"hw02_data_points.csv\", delimiter = \",\").astype(float)\n",
    "y = np.genfromtxt(\"hw02_class_labels.csv\", delimiter = \",\").astype(int)\n",
    "\n",
    "#number of elements\n",
    "N = x.shape[0]\n",
    "#number of features\n",
    "D = x.shape[1]"
   ]
  },
  {
   "cell_type": "markdown",
   "id": "23a14bc3",
   "metadata": {},
   "source": [
    "## Divide training and test data"
   ]
  },
  {
   "cell_type": "code",
   "execution_count": 3,
   "id": "caec0b36",
   "metadata": {},
   "outputs": [],
   "source": [
    "#seperate x\n",
    "x_training = x[:10000]\n",
    "x_test = x[10000:]\n",
    "\n",
    "#Number of samples\n",
    "N_training = x_training.shape[0]\n",
    "N_test = x_test.shape[0]\n",
    "\n",
    "#seperate y\n",
    "y_training = (y[:10000])\n",
    "y_test = y[10000:]\n",
    "\n",
    "#K number of labels\n",
    "K = np.max(y_training).astype(int)\n",
    "\n",
    "# one-of-K encoding for training\n",
    "Y_training = np.zeros((N_training, K)).astype(int)\n",
    "Y_training[range(N_training), np.asarray(y_training - 1)] = 1 \n",
    "\n",
    "# one-of-K encoding for test\n",
    "Y_test = np.zeros((N_test, K)).astype(int)\n",
    "Y_test[range(N_test), np.asarray(y_test - 1)] = 1 "
   ]
  },
  {
   "cell_type": "markdown",
   "id": "4c2ab9a6",
   "metadata": {},
   "source": [
    "## Initialize the discrimination variables"
   ]
  },
  {
   "cell_type": "code",
   "execution_count": 4,
   "id": "bf2280a4",
   "metadata": {},
   "outputs": [],
   "source": [
    "#Algorithm constants\n",
    "eta = 0.00001\n",
    "iteration_count = 1000\n",
    "\n",
    "# define the sigmoid function\n",
    "def sigmoid(X, w, w0):\n",
    "    return(1 / (1 + np.exp(-(np.matmul(X, w) + w0))))\n"
   ]
  },
  {
   "cell_type": "markdown",
   "id": "ee9fe943",
   "metadata": {},
   "source": [
    "\\begin{align*}\n",
    "\\dfrac{\\partial \\textrm{Error}}{\\partial \\boldsymbol{w}_{c}} &= -\\sum\\limits_{i = 1}^{N} (y_{ic} - \\widehat{y}_{ic})(sigmoid (1 - sigmoid)\\boldsymbol{x}_{i} \\\\\n",
    "\\dfrac{\\partial \\textrm{Error}}{\\partial w_{c0}} &= -\\sum\\limits_{i = 1}^{N} (y_{ic} - \\widehat{y}_{ic})(sigmoid (1 - sigmoid)\n",
    "\\end{align*}"
   ]
  },
  {
   "cell_type": "markdown",
   "id": "eb2d5e40",
   "metadata": {},
   "source": [
    "## Learn the discrimination by iteration"
   ]
  },
  {
   "cell_type": "code",
   "execution_count": 5,
   "id": "17c536ca",
   "metadata": {},
   "outputs": [],
   "source": [
    "## Gradient functions\n",
    "## The derivation of the gradient from the error function \n",
    "## Derivative according to w is (y_truth - y_predicted)*(sigmoid *(1 - sigmoid))*x\n",
    "## Derivative according to w is (y_truth - y_predicted)*(sigmoid *(1 - sigmoid))*1\n",
    "\n",
    "def gradient_W(x, y_truth, y_predicted):\n",
    "    return (np.asarray([-np.matmul((y_truth[:, k] - y_predicted[:, k])  * y_predicted[:, k] * (1 - y_predicted[:, k]), x) for k in range(K)]).transpose())\n",
    "\n",
    "def gradient_w0(y_truth, y_predicted):\n",
    "    return (-np.sum((y_truth - y_predicted) * y_predicted * (1 - y_predicted), axis = 0))"
   ]
  },
  {
   "cell_type": "code",
   "execution_count": 6,
   "id": "79261509",
   "metadata": {
    "scrolled": true
   },
   "outputs": [
    {
     "name": "stdout",
     "output_type": "stream",
     "text": [
      "[[-0.01324798 -0.02823844 -0.00326868 ... -0.04877851  0.01212054\n",
      "  -0.01143465]\n",
      " [-0.01183842 -0.03963016 -0.01295336 ... -0.04034705  0.00400381\n",
      "  -0.02111644]\n",
      " [-0.01998825 -0.03633561 -0.00489235 ... -0.04108662  0.01387463\n",
      "  -0.02484677]\n",
      " ...\n",
      " [-0.01341638 -0.0199712  -0.02071762 ... -0.03364511  0.00594223\n",
      "  -0.01845717]\n",
      " [-0.00980747 -0.03218592 -0.02022552 ... -0.03211477  0.01611503\n",
      "  -0.00845905]\n",
      " [-0.01977218 -0.02373074 -0.01468591 ... -0.04159601  0.01068509\n",
      "  -0.02400039]]\n",
      "[-0.01287857 -0.02891159 -0.00873806 -0.03535891 -0.02597275 -0.06542254\n",
      " -0.01501564 -0.0451543   0.00689065 -0.01964791]\n"
     ]
    }
   ],
   "source": [
    "#Initialize the w and w0\n",
    "W = np.genfromtxt(\"hw02_W_initial.csv\", delimiter = \",\", skip_header = 0).astype(float)\n",
    "w0 = np.genfromtxt(\"hw02_w0_initial.csv\", delimiter = \",\", skip_header = 0).astype(float)\n",
    "\n",
    "#Start to iteration\n",
    "iteration = 1\n",
    "objective_values = []\n",
    "while (iteration <= iteration_count):\n",
    "    Y_predicted = sigmoid(x_training, W, w0)\n",
    "    #save the old w values\n",
    "    w_old = W\n",
    "    w0_old = w0\n",
    "    \n",
    "    objective_values = np.append(objective_values, 0.5 * np.sum((Y_training - Y_predicted)**2))\n",
    "    \n",
    "    #calculate gradient and find the new w values\n",
    "    W = W - eta * gradient_W(x_training, Y_training, Y_predicted)\n",
    "    w0 = w0 - eta * gradient_w0(Y_training, np.asarray(Y_predicted))\n",
    "    \n",
    "    #increment iteration values\n",
    "    iteration = iteration + 1\n",
    "    \n",
    "print(W)\n",
    "print(w0)"
   ]
  },
  {
   "cell_type": "markdown",
   "id": "f85b3f67",
   "metadata": {},
   "source": [
    "## Convergence"
   ]
  },
  {
   "cell_type": "code",
   "execution_count": 7,
   "id": "cc6c7973",
   "metadata": {},
   "outputs": [
    {
     "data": {
      "image/png": "[encoded data removed]",
      "text/plain": [
       "<Figure size 576x288 with 1 Axes>"
      ]
     },
     "metadata": {
      "needs_background": "light"
     },
     "output_type": "display_data"
    }
   ],
   "source": [
    "# plot objective function during iterations\n",
    "plt.figure(figsize = (8, 4))\n",
    "plt.plot(range(1, iteration  ), objective_values, \"k-\")\n",
    "plt.xlabel(\"Iteration\")\n",
    "plt.ylabel(\"Error\")\n",
    "plt.show()"
   ]
  },
  {
   "cell_type": "markdown",
   "id": "77f9fb3e",
   "metadata": {},
   "source": [
    "## Confusion Training"
   ]
  },
  {
   "cell_type": "code",
   "execution_count": 29,
   "id": "10788815",
   "metadata": {},
   "outputs": [
    {
     "name": "stdout",
     "output_type": "stream",
     "text": [
      "y_truth   1    2    3    4    5    6    7    8    9    10\n",
      "y_pred                                                   \n",
      "1        838    3   14   44    5    0  220    0    1    0\n",
      "2          4  908    1   17    4    0    3    0    2    0\n",
      "3         14   12  645   14   69    0  133    0    9    1\n",
      "4         89   37    5  870   41    2   55    0   12    2\n",
      "5          2    6  172   28  763    0  123    0    6    0\n",
      "6         16    3   26    5    8  841   30   89   25   33\n",
      "7         27    3   80   28   79    0  423    0   17    0\n",
      "8          0    0    0    0    0  115    1  862    8   43\n",
      "9         18    0    8    5   10   13   34    2  892    0\n",
      "10         1    0    0    1    0   37    0   84    2  957\n"
     ]
    }
   ],
   "source": [
    "# calculate confusion matrix\n",
    "y_predicted = np.argmax(Y_predicted, axis = 1) + 1\n",
    "confusion_matrix = pd.crosstab(y_predicted, y_training.T,\n",
    "                               rownames = [\"y_pred\"],\n",
    "                               colnames = [\"y_truth\"])\n",
    "print(confusion_matrix)"
   ]
  },
  {
   "cell_type": "markdown",
   "id": "a7eef788",
   "metadata": {},
   "source": [
    "## Confusion Test"
   ]
  },
  {
   "cell_type": "code",
   "execution_count": 8,
   "id": "ba31ee39",
   "metadata": {},
   "outputs": [
    {
     "name": "stdout",
     "output_type": "stream",
     "text": [
      "y_truth   1    2    3    4    5    6    7    8    9    10\n",
      "y_pred                                                   \n",
      "1        397    1   11   22    0    1  129    0    0    0\n",
      "2          4  459    0    8    3    0    1    0    0    0\n",
      "3          7   10  320    6   49    1   52    0    5    0\n",
      "4         51   15    3  443   19    1   31    0   10    0\n",
      "5          2    2   83   14  382    0   58    0    1    0\n",
      "6          9    2   13    2    4  405   12   39   14   18\n",
      "7         14    1   50   11   47    0  218    0    9    0\n",
      "8          1    0    0    0    0   47    0  387    7   27\n",
      "9         16    0   10    1    2    7   18    1  459    0\n",
      "10         1    0    0    0    0   28    0   44    3  472\n"
     ]
    }
   ],
   "source": [
    "Y_predicted = sigmoid(x_test,W,w0)\n",
    "y_predicted = np.argmax(Y_predicted, axis = 1) + 1\n",
    "confusion_matrix = pd.crosstab(y_predicted, y_test.T,\n",
    "                               rownames = [\"y_pred\"],\n",
    "                               colnames = [\"y_truth\"])\n",
    "print(confusion_matrix)"
   ]
  },
  {
   "cell_type": "code",
   "execution_count": null,
   "id": "1fc4635c",
   "metadata": {},
   "outputs": [],
   "source": []
  }
 ],
 "metadata": {
  "kernelspec": {
   "display_name": "Python 3 (ipykernel)",
   "language": "python",
   "name": "python3"
  },
  "language_info": {
   "codemirror_mode": {
    "name": "ipython",
    "version": 3
   },
   "file_extension": ".py",
   "mimetype": "text/x-python",
   "name": "python",
   "nbconvert_exporter": "python",
   "pygments_lexer": "ipython3",
   "version": "3.9.12"
  }
 },
 "nbformat": 4,
 "nbformat_minor": 5
}
