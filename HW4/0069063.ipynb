{
 "cells": [
  {
   "cell_type": "markdown",
   "id": "eb03eef6",
   "metadata": {},
   "source": [
    "# HW 4\n",
    "\n",
    "## Yakup Can Karacaoğlu "
   ]
  },
  {
   "cell_type": "code",
   "execution_count": 70,
   "id": "dc38a9cc",
   "metadata": {},
   "outputs": [],
   "source": [
    "import numpy as np\n",
    "import pandas as pd\n",
    "import matplotlib.pyplot as plt\n",
    "\n",
    "def safelog2(x):\n",
    "    if x == 0:\n",
    "        return(0)\n",
    "    else:\n",
    "        return(np.log2(x))"
   ]
  },
  {
   "cell_type": "markdown",
   "id": "e95f8ce4",
   "metadata": {},
   "source": [
    "## Import Data"
   ]
  },
  {
   "cell_type": "code",
   "execution_count": 71,
   "id": "50423ae6",
   "metadata": {},
   "outputs": [],
   "source": [
    "# read data into memory\n",
    "data_set = np.genfromtxt(\"hw04_data_set.csv\", delimiter = \",\",skip_header=1)\n",
    "\n",
    "#Number of the data set\n",
    "N = data_set.shape[0]\n",
    "\n",
    "# get X and y values\n",
    "X = data_set[:,0]\n",
    "y = data_set[:, 1].astype(int)\n",
    "\n",
    "#Seperate the train set\n",
    "x_train = X[: 150,]\n",
    "y_train = y[: 150,]\n",
    "N_train = x_train.shape[0]\n",
    "\n",
    "#Seperate the test set\n",
    "x_test = X[150:,]\n",
    "y_test = y[150:,]\n",
    "N_test = x_test.shape[0]\n"
   ]
  },
  {
   "cell_type": "markdown",
   "id": "dd196c15",
   "metadata": {},
   "source": [
    "## Initialization"
   ]
  },
  {
   "cell_type": "code",
   "execution_count": 72,
   "id": "6f979f4b",
   "metadata": {},
   "outputs": [],
   "source": [
    "# create necessary data structures\n",
    "node_indices = {}\n",
    "is_terminal = {}\n",
    "need_split = {}\n",
    "\n",
    "node_features = {}\n",
    "node_splits = {}\n",
    "node_frequencies = {}\n",
    "\n",
    "# put all training instances into the root node\n",
    "node_indices[1] = np.array(range(N_train))\n",
    "is_terminal[1] = False\n",
    "need_split[1] = True"
   ]
  },
  {
   "cell_type": "markdown",
   "id": "249d8bf8",
   "metadata": {},
   "source": [
    "## Tree Inference"
   ]
  },
  {
   "cell_type": "code",
   "execution_count": 73,
   "id": "072fa57b",
   "metadata": {
    "scrolled": true
   },
   "outputs": [],
   "source": [
    "def func(P):\n",
    "    while True:\n",
    "        # find nodes that need splitting\n",
    "        split_nodes = [key for key, value in need_split.items()\n",
    "                        if value == True]\n",
    "        # check whether we reach all terminal nodes\n",
    "        if len(split_nodes) == 0:\n",
    "            break\n",
    "\n",
    "        # find best split positions for all nodes\n",
    "        for split_node in split_nodes:\n",
    "            data_indices = node_indices[split_node]\n",
    "            need_split[split_node] = False\n",
    "            node_frequencies[split_node] = np.mean(y_train[data_indices])\n",
    "\n",
    "            if len(data_indices) <= P:\n",
    "                is_terminal[split_node] = True\n",
    "            else:\n",
    "                is_terminal[split_node] = False\n",
    "                unique_values = np.sort(np.unique(x_train[data_indices]))\n",
    "                split_positions = (unique_values[1:len(unique_values)] + unique_values[0:(len(unique_values) - 1)]) / 2\n",
    "                split_scores = np.repeat(0.0, len(split_positions))\n",
    "                for s in range(len(split_positions)):\n",
    "                    left_indices = data_indices[x_train[data_indices] <= \\\n",
    "                                    split_positions[s]]\n",
    "                    right_indices = data_indices[x_train[data_indices] > \\\n",
    "                                    split_positions[s]]\n",
    "                    split_scores[s] = np.sum((y_train[left_indices] - np.mean(y_train[left_indices]))**2) / len(data_indices) + np.sum((y_train[right_indices] - np.mean(y_train[right_indices]))**2) / len(data_indices)\n",
    "\n",
    "                best_split = split_positions[np.argmin(split_scores)]\n",
    "                node_splits[split_node] = best_split\n",
    "\n",
    "                # create left node using the selected split\n",
    "                left_indices = data_indices[x_train[data_indices] <= best_split]\n",
    "                if len(left_indices > 0):\n",
    "                    node_indices[2 * split_node] = left_indices\n",
    "                    is_terminal[2 * split_node] = False\n",
    "                    need_split[2 * split_node] = True\n",
    "\n",
    "                # create right node using the selected split\n",
    "                right_indices = data_indices[x_train[data_indices] > best_split]\n",
    "                if len(right_indices > 0):\n",
    "                    node_indices[2 * split_node + 1] = right_indices\n",
    "                    is_terminal[2 * split_node + 1] = False\n",
    "                    need_split[2 * split_node + 1] = True\n",
    "\n"
   ]
  },
  {
   "cell_type": "markdown",
   "id": "747e9ded",
   "metadata": {},
   "source": [
    "## Call the Tree Function"
   ]
  },
  {
   "cell_type": "code",
   "execution_count": 74,
   "id": "31cc8733",
   "metadata": {},
   "outputs": [],
   "source": [
    "#Call function with the P = 25\n",
    "func(25)"
   ]
  },
  {
   "cell_type": "markdown",
   "id": "1501b2de",
   "metadata": {},
   "source": [
    "## Prediction"
   ]
  },
  {
   "cell_type": "code",
   "execution_count": 75,
   "id": "4ef83bc3",
   "metadata": {},
   "outputs": [],
   "source": [
    "def prediction_func(point):\n",
    "    key = 1\n",
    "    while is_terminal[key] == False:\n",
    "        if point < node_splits[key]:\n",
    "            key = key * 2\n",
    "        else:\n",
    "            key = key * 2 + 1\n",
    "    return node_frequencies[key]\n",
    "\n",
    "data_interval = np.linspace(1.5, 5.2, 371)\n",
    "\n",
    "y_predicted = []\n",
    "for x in data_interval:\n",
    "    y_predicted.append(prediction_func(x))\n"
   ]
  },
  {
   "cell_type": "markdown",
   "id": "b5baeec7",
   "metadata": {},
   "source": [
    "## Plot"
   ]
  },
  {
   "cell_type": "code",
   "execution_count": 76,
   "id": "3158820e",
   "metadata": {},
   "outputs": [
    {
     "data": {
      "image/png": "[encoded data removed]",
      "text/plain": [
       "<Figure size 720x432 with 1 Axes>"
      ]
     },
     "metadata": {
      "needs_background": "light"
     },
     "output_type": "display_data"
    }
   ],
   "source": [
    "plt.figure(figsize = (10, 6))\n",
    "plt.plot(x_train, y_train, \"b.\", markersize=10)\n",
    "plt.plot(x_test, y_test, \"r.\", markersize=10)\n",
    "plt.xlabel(\"Eruption time (min)\")\n",
    "plt.ylabel(\"Waiting time to next eruption (min)\")\n",
    "plt.legend([\"training\", \"test\"], loc =\"upper left\")\n",
    "plt.plot(data_interval, y_predicted, \"k-\")\n",
    "\n",
    "plt.show()"
   ]
  },
  {
   "cell_type": "markdown",
   "id": "1d76e085",
   "metadata": {},
   "source": [
    "## RMSE"
   ]
  },
  {
   "cell_type": "code",
   "execution_count": 39,
   "id": "a4756c84",
   "metadata": {},
   "outputs": [
    {
     "name": "stdout",
     "output_type": "stream",
     "text": [
      "RMSE on training set is  4.541214189194451  when P is 25\n"
     ]
    }
   ],
   "source": [
    "error = 0\n",
    "for i in range(N_train):\n",
    "    for j in range(len(y_predicted) - 1):\n",
    "        if((x_train[i] > data_interval[j]) & (x_train[i] <= data_interval[j+1])):\n",
    "            error += (y_train[i] - y_predicted[j + 1])**2\n",
    "\n",
    "rmse = (np.sqrt(error / N_train))\n",
    "            \n",
    "print(\"RMSE on training set is \", rmse, \" when P is 25\")\n"
   ]
  },
  {
   "cell_type": "code",
   "execution_count": 41,
   "id": "2e48b780",
   "metadata": {},
   "outputs": [
    {
     "name": "stdout",
     "output_type": "stream",
     "text": [
      "RMSE on test set  is  6.6180729234323925  when P is 25\n"
     ]
    }
   ],
   "source": [
    "error = 0\n",
    "for i in range(N_test):\n",
    "    for j in range(len(y_predicted) - 1):\n",
    "        if((x_test[i] > data_interval[j]) & (x_test[i] <= data_interval[j+1])):\n",
    "            error += (y_test[i] - y_predicted[j+1])**2\n",
    "\n",
    "rmse = (np.sqrt(error / N_test))\n",
    "            \n",
    "print(\"RMSE on test set  is \", rmse, \" when P is 25\")\n",
    "\n",
    "#It gives the RMSE same with the training set in description, but it is a bit different for the train I did not understant why"
   ]
  },
  {
   "cell_type": "code",
   "execution_count": 42,
   "id": "450eda69",
   "metadata": {},
   "outputs": [
    {
     "data": {
      "image/png": "[encoded data removed]",
      "text/plain": [
       "<Figure size 720x720 with 1 Axes>"
      ]
     },
     "metadata": {
      "needs_background": "light"
     },
     "output_type": "display_data"
    }
   ],
   "source": [
    "# List of P parameters\n",
    "p_parameters = np.linspace(5,50,num = 10).astype(int)\n",
    "\n",
    "#RMSE result holder lists\n",
    "train_rmse = []\n",
    "test_rmse = []\n",
    "\n",
    "for P in p_parameters:\n",
    "    # restart the node dictionaries for every P\n",
    "    node_indices = {}\n",
    "    is_terminal = {}\n",
    "    need_split = {}\n",
    "\n",
    "    node_features = {}\n",
    "    node_splits = {}\n",
    "    node_frequencies = {}\n",
    "\n",
    "    node_indices[1] = np.array(range(N_train))\n",
    "    is_terminal[1] = False\n",
    "    need_split[1] = True\n",
    "    \n",
    "    #Call function for P\n",
    "    func(P)\n",
    "    #Prediction\n",
    "    y_predicted = []\n",
    "    for x in data_interval:\n",
    "        y_predicted.append(prediction_func(x))\n",
    "    \n",
    "    #RMSE calculation for train\n",
    "    error = 0\n",
    "    for i in range(N_train):\n",
    "        for j in range(len(y_predicted) - 1):\n",
    "            if((x_train[i] > data_interval[j]) & (x_train[i] <= data_interval[j+1])):\n",
    "                error += (y_train[i] - y_predicted[j + 1])**2\n",
    "\n",
    "    rmse = (np.sqrt(error / N_train))\n",
    "    train_rmse.append(rmse)\n",
    "    \n",
    "    #RMSE calculation for test\n",
    "    error = 0\n",
    "    for i in range(N_test):\n",
    "        for j in range(len(y_predicted) - 1):\n",
    "            if((x_test[i] >= data_interval[j]) & (x_test[i] < data_interval[j+1])):\n",
    "                error += (y_test[i] - y_predicted[j + 1])**2\n",
    "                \n",
    "    rmse = (np.sqrt(error / N_test))\n",
    "    test_rmse.append(rmse)\n",
    "\n",
    "plt.figure(figsize = (10, 10))\n",
    "plt.plot(p_parameters, train_rmse, \"b.\", markersize=10 )\n",
    "plt.plot(p_parameters, test_rmse, \"r.\", markersize=10 )\n",
    "plt.plot(p_parameters,train_rmse,\"b-\")\n",
    "plt.plot(p_parameters,test_rmse,\"r-\")\n",
    "plt.xlabel(\"Pre-pruning size (P)\")\n",
    "plt.ylabel(\"RMSE\")\n",
    "plt.legend([\"training\", \"test\"], loc =\"upper right\")\n",
    "plt.show()"
   ]
  },
  {
   "cell_type": "code",
   "execution_count": null,
   "id": "cb2fd251",
   "metadata": {},
   "outputs": [],
   "source": []
  }
 ],
 "metadata": {
  "kernelspec": {
   "display_name": "Python 3 (ipykernel)",
   "language": "python",
   "name": "python3"
  },
  "language_info": {
   "codemirror_mode": {
    "name": "ipython",
    "version": 3
   },
   "file_extension": ".py",
   "mimetype": "text/x-python",
   "name": "python",
   "nbconvert_exporter": "python",
   "pygments_lexer": "ipython3",
   "version": "3.9.12"
  }
 },
 "nbformat": 4,
 "nbformat_minor": 5
}
